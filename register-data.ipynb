{
 "cells": [
  {
   "cell_type": "code",
   "execution_count": 1,
   "metadata": {},
   "outputs": [],
   "source": [
    "# autoreload magic\n",
    "%load_ext autoreload\n",
    "%autoreload 2\n",
    "# Enable widget backend for interactive plotting\n",
    "%matplotlib widget"
   ]
  },
  {
   "cell_type": "code",
   "execution_count": 2,
   "metadata": {},
   "outputs": [],
   "source": [
    "import numpy as np\n",
    "import nibabel as nib\n",
    "import matplotlib.pyplot as plt\n",
    "import ipywidgets as widgets\n",
    "from IPython.display import display, clear_output\n",
    "import os\n",
    "\n",
    "from mni_utils import MNIUtils, register_study_to_mni, export_data_to_nnUNet_dir"
   ]
  },
  {
   "cell_type": "code",
   "execution_count": 3,
   "metadata": {},
   "outputs": [],
   "source": [
    "user_dir = os.path.expanduser('~')\n",
    "study_dir = user_dir + '/data/hydro_for_export/'\n",
    "nnUNet_dir = user_dir + '/data/nnUNet_raw/Dataset030_PVS_hydro/'"
   ]
  },
  {
   "cell_type": "code",
   "execution_count": 5,
   "metadata": {},
   "outputs": [
    {
     "name": "stderr",
     "output_type": "stream",
     "text": [
      "  0%|          | 0/18 [00:00<?, ?it/s]"
     ]
    },
    {
     "name": "stdout",
     "output_type": "stream",
     "text": [
      "Image is already registered to MNI space.\n",
      "Image is already registered to MNI space.\n",
      "Transformed image saved to: /home/vemund/data/hydro_for_export/pas001/20230202/PVS_wm_to_MNI_Warped.nii.gz\n",
      "Image is already registered to MNI space.\n",
      "Image is already registered to MNI space.\n",
      "Image is already registered to MNI space.\n",
      "Image is already registered to MNI space.\n",
      "Transformed image saved to: /home/vemund/data/hydro_for_export/pas001/20230511/PVS_wm_to_MNI_Warped.nii.gz\n",
      "Image is already registered to MNI space.\n"
     ]
    },
    {
     "name": "stderr",
     "output_type": "stream",
     "text": [
      "  6%|▌         | 1/18 [00:05<01:29,  5.28s/it]"
     ]
    },
    {
     "name": "stdout",
     "output_type": "stream",
     "text": [
      "Image is already registered to MNI space.\n",
      "Mask not found: /home/vemund/data/hydro_for_export/pas002/20230203/PVS_wm.nii.gz\n",
      "Image is already registered to MNI space.\n",
      "Image is already registered to MNI space.\n",
      "Image is already registered to MNI space.\n",
      "Image is already registered to MNI space.\n",
      "Image is already registered to MNI space.\n",
      "Image is already registered to MNI space.\n",
      "Transformed image saved to: /home/vemund/data/hydro_for_export/pas003/20230209/PVS_wm_to_MNI_Warped.nii.gz\n",
      "Image is already registered to MNI space.\n",
      "Image is already registered to MNI space.\n",
      "Image is already registered to MNI space.\n",
      "Image is already registered to MNI space.\n",
      "Transformed image saved to: /home/vemund/data/hydro_for_export/pas003/20230615/PVS_wm_to_MNI_Warped.nii.gz\n",
      "Image is already registered to MNI space.\n"
     ]
    },
    {
     "name": "stderr",
     "output_type": "stream",
     "text": [
      " 17%|█▋        | 3/18 [00:10<00:50,  3.38s/it]"
     ]
    },
    {
     "name": "stdout",
     "output_type": "stream",
     "text": [
      "Image is already registered to MNI space.\n",
      "Image is already registered to MNI space.\n",
      "Image is already registered to MNI space.\n",
      "Transformed image saved to: /home/vemund/data/hydro_for_export/pas004/20230210/PVS_wm_to_MNI_Warped.nii.gz\n",
      "Image is already registered to MNI space.\n",
      "Image is already registered to MNI space.\n",
      "Image is already registered to MNI space.\n",
      "Image is already registered to MNI space.\n",
      "Transformed image saved to: /home/vemund/data/hydro_for_export/pas004/20230330/PVS_wm_to_MNI_Warped.nii.gz\n",
      "Image is already registered to MNI space.\n"
     ]
    },
    {
     "name": "stderr",
     "output_type": "stream",
     "text": [
      " 22%|██▏       | 4/18 [00:15<00:56,  4.00s/it]"
     ]
    },
    {
     "name": "stdout",
     "output_type": "stream",
     "text": [
      "Image is already registered to MNI space.\n",
      "Image is already registered to MNI space.\n",
      "Image is already registered to MNI space.\n",
      "Transformed image saved to: /home/vemund/data/hydro_for_export/pas005/20230213/PVS_wm_to_MNI_Warped.nii.gz\n",
      "Image is already registered to MNI space.\n",
      "Image is already registered to MNI space.\n",
      "Image is already registered to MNI space.\n",
      "Image is already registered to MNI space.\n",
      "Transformed image saved to: /home/vemund/data/hydro_for_export/pas005/20230609/PVS_wm_to_MNI_Warped.nii.gz\n",
      "Image is already registered to MNI space.\n"
     ]
    },
    {
     "name": "stderr",
     "output_type": "stream",
     "text": [
      " 28%|██▊       | 5/18 [00:21<00:57,  4.46s/it]"
     ]
    },
    {
     "name": "stdout",
     "output_type": "stream",
     "text": [
      "Image is already registered to MNI space.\n",
      "Image is already registered to MNI space.\n",
      "Image is already registered to MNI space.\n",
      "Transformed image saved to: /home/vemund/data/hydro_for_export/pas006/20230216/PVS_wm_to_MNI_Warped.nii.gz\n",
      "Image is already registered to MNI space.\n",
      "Image is already registered to MNI space.\n",
      "Image is already registered to MNI space.\n",
      "Image is already registered to MNI space.\n",
      "Transformed image saved to: /home/vemund/data/hydro_for_export/pas006/20230608/PVS_wm_to_MNI_Warped.nii.gz\n",
      "Image is already registered to MNI space.\n"
     ]
    },
    {
     "name": "stderr",
     "output_type": "stream",
     "text": [
      " 33%|███▎      | 6/18 [00:26<00:56,  4.72s/it]"
     ]
    },
    {
     "name": "stdout",
     "output_type": "stream",
     "text": [
      "Image is already registered to MNI space.\n",
      "Image is already registered to MNI space.\n",
      "Image is already registered to MNI space.\n",
      "Transformed image saved to: /home/vemund/data/hydro_for_export/pas007/20230223/PVS_wm_to_MNI_Warped.nii.gz\n",
      "Image is already registered to MNI space.\n",
      "Image is already registered to MNI space.\n",
      "Image is already registered to MNI space.\n",
      "Image is already registered to MNI space.\n",
      "Transformed image saved to: /home/vemund/data/hydro_for_export/pas007/20230309/PVS_wm_to_MNI_Warped.nii.gz\n",
      "Image is already registered to MNI space.\n"
     ]
    },
    {
     "name": "stderr",
     "output_type": "stream",
     "text": [
      " 39%|███▉      | 7/18 [00:31<00:53,  4.90s/it]"
     ]
    },
    {
     "name": "stdout",
     "output_type": "stream",
     "text": [
      "Image is already registered to MNI space.\n",
      "Mask not found: /home/vemund/data/hydro_for_export/pas008/20230224/PVS_wm.nii.gz\n",
      "Image is already registered to MNI space.\n",
      "Image is already registered to MNI space.\n",
      "Image is already registered to MNI space.\n",
      "Image is already registered to MNI space.\n",
      "Mask not found: /home/vemund/data/hydro_for_export/pas009/20230302/PVS_wm.nii.gz\n",
      "Image is already registered to MNI space.\n",
      "Image is already registered to MNI space.\n",
      "Image is already registered to MNI space.\n",
      "Image is already registered to MNI space.\n",
      "Image is already registered to MNI space.\n",
      "Image is already registered to MNI space.\n",
      "Transformed image saved to: /home/vemund/data/hydro_for_export/pas010/20230303/PVS_wm_to_MNI_Warped.nii.gz\n",
      "Image is already registered to MNI space.\n",
      "Image is already registered to MNI space.\n",
      "Image is already registered to MNI space.\n",
      "Image is already registered to MNI space.\n",
      "Transformed image saved to: /home/vemund/data/hydro_for_export/pas010/20230427/PVS_wm_to_MNI_Warped.nii.gz\n",
      "Image is already registered to MNI space.\n"
     ]
    },
    {
     "name": "stderr",
     "output_type": "stream",
     "text": [
      " 56%|█████▌    | 10/18 [00:37<00:24,  3.11s/it]"
     ]
    },
    {
     "name": "stdout",
     "output_type": "stream",
     "text": [
      "Image is already registered to MNI space.\n",
      "Image is already registered to MNI space.\n",
      "Image is already registered to MNI space.\n",
      "Transformed image saved to: /home/vemund/data/hydro_for_export/pas011/20230310/PVS_wm_to_MNI_Warped.nii.gz\n",
      "Image is already registered to MNI space.\n",
      "Image is already registered to MNI space.\n",
      "Image is already registered to MNI space.\n",
      "Image is already registered to MNI space.\n",
      "Transformed image saved to: /home/vemund/data/hydro_for_export/pas011/20230616/PVS_wm_to_MNI_Warped.nii.gz\n",
      "Image is already registered to MNI space.\n"
     ]
    },
    {
     "name": "stderr",
     "output_type": "stream",
     "text": [
      " 61%|██████    | 11/18 [00:42<00:25,  3.65s/it]"
     ]
    },
    {
     "name": "stdout",
     "output_type": "stream",
     "text": [
      "Image is already registered to MNI space.\n",
      "Mask not found: /home/vemund/data/hydro_for_export/pas012/20230316/PVS_wm.nii.gz\n",
      "Image is already registered to MNI space.\n",
      "Image is already registered to MNI space.\n",
      "Image is already registered to MNI space.\n",
      "Image is already registered to MNI space.\n",
      "Image is already registered to MNI space.\n",
      "Image is already registered to MNI space.\n",
      "Transformed image saved to: /home/vemund/data/hydro_for_export/pas013/20230317/PVS_wm_to_MNI_Warped.nii.gz\n",
      "Image is already registered to MNI space.\n",
      "Image is already registered to MNI space.\n",
      "Image is already registered to MNI space.\n",
      "Image is already registered to MNI space.\n",
      "Transformed image saved to: /home/vemund/data/hydro_for_export/pas013/20230629/PVS_wm_to_MNI_Warped.nii.gz\n",
      "Image is already registered to MNI space.\n"
     ]
    },
    {
     "name": "stderr",
     "output_type": "stream",
     "text": [
      " 72%|███████▏  | 13/18 [00:48<00:16,  3.26s/it]"
     ]
    },
    {
     "name": "stdout",
     "output_type": "stream",
     "text": [
      "Image is already registered to MNI space.\n",
      "Image is already registered to MNI space.\n",
      "Image is already registered to MNI space.\n",
      "Transformed image saved to: /home/vemund/data/hydro_for_export/pas014/20230323/PVS_wm_to_MNI_Warped.nii.gz\n",
      "Image is already registered to MNI space.\n",
      "Image is already registered to MNI space.\n",
      "Image is already registered to MNI space.\n",
      "Image is already registered to MNI space.\n",
      "Transformed image saved to: /home/vemund/data/hydro_for_export/pas014/20230324/PVS_wm_to_MNI_Warped.nii.gz\n",
      "Image is already registered to MNI space.\n"
     ]
    },
    {
     "name": "stderr",
     "output_type": "stream",
     "text": [
      " 78%|███████▊  | 14/18 [00:53<00:14,  3.71s/it]"
     ]
    },
    {
     "name": "stdout",
     "output_type": "stream",
     "text": [
      "Image is already registered to MNI space.\n",
      "Image is already registered to MNI space.\n",
      "Image is already registered to MNI space.\n",
      "Transformed image saved to: /home/vemund/data/hydro_for_export/pas015/20230331/PVS_wm_to_MNI_Warped.nii.gz\n",
      "Image is already registered to MNI space.\n",
      "Image is already registered to MNI space.\n",
      "Image is already registered to MNI space.\n",
      "Image is already registered to MNI space.\n",
      "Transformed image saved to: /home/vemund/data/hydro_for_export/pas015/20230428/PVS_wm_to_MNI_Warped.nii.gz\n",
      "Image is already registered to MNI space.\n"
     ]
    },
    {
     "name": "stderr",
     "output_type": "stream",
     "text": [
      " 83%|████████▎ | 15/18 [00:58<00:12,  4.09s/it]"
     ]
    },
    {
     "name": "stdout",
     "output_type": "stream",
     "text": [
      "Image is already registered to MNI space.\n",
      "Image is already registered to MNI space.\n",
      "Image is already registered to MNI space.\n",
      "Transformed image saved to: /home/vemund/data/hydro_for_export/pas016/20230414/PVS_wm_to_MNI_Warped.nii.gz\n",
      "Image is already registered to MNI space.\n",
      "Image is already registered to MNI space.\n",
      "Image is already registered to MNI space.\n",
      "Image is already registered to MNI space.\n",
      "Transformed image saved to: /home/vemund/data/hydro_for_export/pas016/20230512/PVS_wm_to_MNI_Warped.nii.gz\n",
      "Image is already registered to MNI space.\n"
     ]
    },
    {
     "name": "stderr",
     "output_type": "stream",
     "text": [
      " 89%|████████▉ | 16/18 [01:04<00:08,  4.43s/it]"
     ]
    },
    {
     "name": "stdout",
     "output_type": "stream",
     "text": [
      "Image is already registered to MNI space.\n",
      "Image is already registered to MNI space.\n",
      "Image is already registered to MNI space.\n",
      "Transformed image saved to: /home/vemund/data/hydro_for_export/pas017/20230504/PVS_wm_to_MNI_Warped.nii.gz\n",
      "Image is already registered to MNI space.\n",
      "Image is already registered to MNI space.\n",
      "Image is already registered to MNI space.\n",
      "Image is already registered to MNI space.\n",
      "Transformed image saved to: /home/vemund/data/hydro_for_export/pas017/20230505/PVS_wm_to_MNI_Warped.nii.gz\n",
      "Image is already registered to MNI space.\n"
     ]
    },
    {
     "name": "stderr",
     "output_type": "stream",
     "text": [
      "100%|██████████| 18/18 [01:09<00:00,  3.87s/it]"
     ]
    },
    {
     "name": "stdout",
     "output_type": "stream",
     "text": [
      "Image is already registered to MNI space.\n",
      "Mask not found: /home/vemund/data/hydro_for_export/pas018/20230630/PVS_wm.nii.gz\n",
      "Image is already registered to MNI space.\n",
      "Image is already registered to MNI space.\n",
      "Image is already registered to MNI space.\n",
      "Image is already registered to MNI space.\n"
     ]
    },
    {
     "name": "stderr",
     "output_type": "stream",
     "text": [
      "\n"
     ]
    }
   ],
   "source": [
    "register_study_to_mni(study_dir, overwrite=False)"
   ]
  },
  {
   "cell_type": "code",
   "execution_count": 5,
   "metadata": {},
   "outputs": [
    {
     "name": "stderr",
     "output_type": "stream",
     "text": [
      "  0%|          | 0/18 [00:00<?, ?it/s]"
     ]
    },
    {
     "name": "stdout",
     "output_type": "stream",
     "text": [
      "Patient pas001, visit 20230202 exported.\n"
     ]
    },
    {
     "name": "stderr",
     "output_type": "stream",
     "text": [
      "  6%|▌         | 1/18 [00:00<00:09,  1.82it/s]"
     ]
    },
    {
     "name": "stdout",
     "output_type": "stream",
     "text": [
      "Patient pas001, visit 20230511 exported.\n",
      "Error copying mask (does not exits?): /home/vemund/data/hydro_for_export/pas002/20230203/PVS_wm_to_MNI_Warped.nii.gz\n"
     ]
    },
    {
     "name": "stderr",
     "output_type": "stream",
     "text": [
      "cp: cannot stat '/home/vemund/data/hydro_for_export/pas002/20230203/PVS_wm_to_MNI_Warped.nii.gz': No such file or directory\n"
     ]
    },
    {
     "name": "stdout",
     "output_type": "stream",
     "text": [
      "Patient pas003, visit 20230209 exported.\n"
     ]
    },
    {
     "name": "stderr",
     "output_type": "stream",
     "text": [
      " 17%|█▋        | 3/18 [00:01<00:05,  2.98it/s]"
     ]
    },
    {
     "name": "stdout",
     "output_type": "stream",
     "text": [
      "Patient pas003, visit 20230615 exported.\n",
      "Patient pas004, visit 20230210 exported.\n"
     ]
    },
    {
     "name": "stderr",
     "output_type": "stream",
     "text": [
      " 22%|██▏       | 4/18 [00:01<00:05,  2.48it/s]"
     ]
    },
    {
     "name": "stdout",
     "output_type": "stream",
     "text": [
      "Patient pas004, visit 20230330 exported.\n",
      "Patient pas005, visit 20230213 exported.\n"
     ]
    },
    {
     "name": "stderr",
     "output_type": "stream",
     "text": [
      " 28%|██▊       | 5/18 [00:02<00:05,  2.30it/s]"
     ]
    },
    {
     "name": "stdout",
     "output_type": "stream",
     "text": [
      "Patient pas005, visit 20230609 exported.\n",
      "Patient pas006, visit 20230216 exported.\n"
     ]
    },
    {
     "name": "stderr",
     "output_type": "stream",
     "text": [
      " 33%|███▎      | 6/18 [00:02<00:05,  2.15it/s]"
     ]
    },
    {
     "name": "stdout",
     "output_type": "stream",
     "text": [
      "Patient pas006, visit 20230608 exported.\n",
      "Patient pas007, visit 20230223 exported.\n"
     ]
    },
    {
     "name": "stderr",
     "output_type": "stream",
     "text": [
      " 39%|███▉      | 7/18 [00:03<00:05,  2.03it/s]"
     ]
    },
    {
     "name": "stdout",
     "output_type": "stream",
     "text": [
      "Patient pas007, visit 20230309 exported.\n",
      "Error copying mask (does not exits?): /home/vemund/data/hydro_for_export/pas008/20230224/PVS_wm_to_MNI_Warped.nii.gz\n",
      "Error copying mask (does not exits?): /home/vemund/data/hydro_for_export/pas009/20230302/PVS_wm_to_MNI_Warped.nii.gz\n"
     ]
    },
    {
     "name": "stderr",
     "output_type": "stream",
     "text": [
      "cp: cannot stat '/home/vemund/data/hydro_for_export/pas008/20230224/PVS_wm_to_MNI_Warped.nii.gz': No such file or directory\n",
      "cp: cannot stat '/home/vemund/data/hydro_for_export/pas009/20230302/PVS_wm_to_MNI_Warped.nii.gz': No such file or directory\n"
     ]
    },
    {
     "name": "stdout",
     "output_type": "stream",
     "text": [
      "Patient pas010, visit 20230303 exported.\n"
     ]
    },
    {
     "name": "stderr",
     "output_type": "stream",
     "text": [
      " 56%|█████▌    | 10/18 [00:03<00:02,  3.18it/s]"
     ]
    },
    {
     "name": "stdout",
     "output_type": "stream",
     "text": [
      "Patient pas010, visit 20230427 exported.\n",
      "Patient pas011, visit 20230310 exported.\n"
     ]
    },
    {
     "name": "stderr",
     "output_type": "stream",
     "text": [
      " 61%|██████    | 11/18 [00:04<00:02,  2.78it/s]"
     ]
    },
    {
     "name": "stdout",
     "output_type": "stream",
     "text": [
      "Patient pas011, visit 20230616 exported.\n",
      "Error copying mask (does not exits?): /home/vemund/data/hydro_for_export/pas012/20230316/PVS_wm_to_MNI_Warped.nii.gz\n"
     ]
    },
    {
     "name": "stderr",
     "output_type": "stream",
     "text": [
      "cp: cannot stat '/home/vemund/data/hydro_for_export/pas012/20230316/PVS_wm_to_MNI_Warped.nii.gz': No such file or directory\n"
     ]
    },
    {
     "name": "stdout",
     "output_type": "stream",
     "text": [
      "Patient pas013, visit 20230317 exported.\n"
     ]
    },
    {
     "name": "stderr",
     "output_type": "stream",
     "text": [
      " 72%|███████▏  | 13/18 [00:04<00:01,  3.09it/s]"
     ]
    },
    {
     "name": "stdout",
     "output_type": "stream",
     "text": [
      "Patient pas013, visit 20230629 exported.\n",
      "Patient pas014, visit 20230323 exported.\n"
     ]
    },
    {
     "name": "stderr",
     "output_type": "stream",
     "text": [
      " 78%|███████▊  | 14/18 [00:05<00:01,  2.67it/s]"
     ]
    },
    {
     "name": "stdout",
     "output_type": "stream",
     "text": [
      "Patient pas014, visit 20230324 exported.\n",
      "Patient pas015, visit 20230331 exported.\n"
     ]
    },
    {
     "name": "stderr",
     "output_type": "stream",
     "text": [
      " 83%|████████▎ | 15/18 [00:05<00:01,  2.37it/s]"
     ]
    },
    {
     "name": "stdout",
     "output_type": "stream",
     "text": [
      "Patient pas015, visit 20230428 exported.\n",
      "Patient pas016, visit 20230414 exported.\n"
     ]
    },
    {
     "name": "stderr",
     "output_type": "stream",
     "text": [
      " 89%|████████▉ | 16/18 [00:06<00:00,  2.25it/s]"
     ]
    },
    {
     "name": "stdout",
     "output_type": "stream",
     "text": [
      "Patient pas016, visit 20230512 exported.\n",
      "Patient pas017, visit 20230504 exported.\n"
     ]
    },
    {
     "name": "stderr",
     "output_type": "stream",
     "text": [
      " 94%|█████████▍| 17/18 [00:06<00:00,  2.18it/s]cp: cannot stat '/home/vemund/data/hydro_for_export/pas018/20230630/PVS_wm_to_MNI_Warped.nii.gz': No such file or directory\n",
      "100%|██████████| 18/18 [00:06<00:00,  2.59it/s]"
     ]
    },
    {
     "name": "stdout",
     "output_type": "stream",
     "text": [
      "Patient pas017, visit 20230505 exported.\n",
      "Error copying mask (does not exits?): /home/vemund/data/hydro_for_export/pas018/20230630/PVS_wm_to_MNI_Warped.nii.gz\n"
     ]
    },
    {
     "name": "stderr",
     "output_type": "stream",
     "text": [
      "\n"
     ]
    }
   ],
   "source": [
    "export_data_to_nnUNet_dir(study_dir, nnUNet_dir)"
   ]
  },
  {
   "cell_type": "code",
   "execution_count": null,
   "metadata": {},
   "outputs": [],
   "source": []
  }
 ],
 "metadata": {
  "kernelspec": {
   "display_name": "mri",
   "language": "python",
   "name": "python3"
  },
  "language_info": {
   "codemirror_mode": {
    "name": "ipython",
    "version": 3
   },
   "file_extension": ".py",
   "mimetype": "text/x-python",
   "name": "python",
   "nbconvert_exporter": "python",
   "pygments_lexer": "ipython3",
   "version": "3.12.7"
  }
 },
 "nbformat": 4,
 "nbformat_minor": 2
}
